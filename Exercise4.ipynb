{
 "cells": [
  {
   "cell_type": "markdown",
   "id": "167dcf19-cc8d-47ae-a540-b14de2523260",
   "metadata": {},
   "source": [
    "Ejercicio 4.1"
   ]
  },
  {
   "cell_type": "code",
   "execution_count": 8,
   "id": "c6c4463c-565d-4697-8d1f-9fa372863901",
   "metadata": {},
   "outputs": [
    {
     "name": "stdin",
     "output_type": "stream",
     "text": [
      "Ingrese un número 5\n"
     ]
    },
    {
     "name": "stdout",
     "output_type": "stream",
     "text": [
      "La tabla de multiplicar hasta el 10 es:\n",
      "5\n",
      "10\n",
      "15\n",
      "20\n",
      "25\n",
      "30\n",
      "35\n",
      "40\n",
      "45\n",
      "50\n"
     ]
    }
   ],
   "source": [
    "number=int(input(\"Ingrese un número\"))\n",
    "print(\"La tabla de multiplicar hasta el 10 es:\")\n",
    "for i in range(1,11):\n",
    "    resultado=number*i\n",
    "    print( resultado)\n",
    "    "
   ]
  },
  {
   "cell_type": "markdown",
   "id": "a85ab96a-503b-4092-87c6-6cb2162c524c",
   "metadata": {},
   "source": [
    "Ejercicio 4.2"
   ]
  },
  {
   "cell_type": "code",
   "execution_count": 12,
   "id": "d61a49b4-52bd-43d9-b7fc-105c5c6186d5",
   "metadata": {},
   "outputs": [
    {
     "name": "stdin",
     "output_type": "stream",
     "text": [
      "Ingrese un numero 78\n"
     ]
    },
    {
     "name": "stdout",
     "output_type": "stream",
     "text": [
      "Too high\n"
     ]
    },
    {
     "name": "stdin",
     "output_type": "stream",
     "text": [
      "Ingrese un numero 5\n"
     ]
    },
    {
     "name": "stdout",
     "output_type": "stream",
     "text": [
      "Too low\n"
     ]
    },
    {
     "name": "stdin",
     "output_type": "stream",
     "text": [
      "Ingrese un numero 6\n"
     ]
    },
    {
     "name": "stdout",
     "output_type": "stream",
     "text": [
      "Too low\n"
     ]
    },
    {
     "name": "stdin",
     "output_type": "stream",
     "text": [
      "Ingrese un numero 7\n"
     ]
    },
    {
     "name": "stdout",
     "output_type": "stream",
     "text": [
      "Correct!\n"
     ]
    }
   ],
   "source": [
    "\n",
    "correct=7\n",
    "while True: \n",
    "    number=int(input(\"Ingrese un numero\"))\n",
    "    if number > correct:\n",
    "        print(\"Too high\")\n",
    "    elif number < correct:\n",
    "        print(\"Too low\")\n",
    "    else:\n",
    "        print(\"Correct!\")\n",
    "        break  # Exit the loop when the guess is correct\n",
    "           "
   ]
  },
  {
   "cell_type": "markdown",
   "id": "a4507007-ed12-434a-9b46-8fb530fdd3b9",
   "metadata": {},
   "source": [
    "Ejercicio 4.3"
   ]
  },
  {
   "cell_type": "code",
   "execution_count": 14,
   "id": "e5bf1127-ef7f-4ad3-a426-de9e03460fdf",
   "metadata": {},
   "outputs": [
    {
     "name": "stdin",
     "output_type": "stream",
     "text": [
      "Ingrese un string hola\n"
     ]
    },
    {
     "name": "stdout",
     "output_type": "stream",
     "text": [
      "La cadena ingresada tiene 2 vocales\n"
     ]
    }
   ],
   "source": [
    "cadena=input(\"Ingrese un string\") \n",
    "vocales=\"aeiouAEIOU\"\n",
    "j=0\n",
    "for i in cadena:\n",
    "    if i in vocales:\n",
    "        j=j+1\n",
    "print(\"La cadena ingresada tiene\", j, \"vocales\") "
   ]
  },
  {
   "cell_type": "markdown",
   "id": "76657d62-c418-49eb-bbbd-29d43a0badce",
   "metadata": {},
   "source": [
    "Ejercicio 4.4"
   ]
  },
  {
   "cell_type": "code",
   "execution_count": 25,
   "id": "a89738b4-dfe3-43f3-8c74-60955d8d706c",
   "metadata": {},
   "outputs": [
    {
     "name": "stdin",
     "output_type": "stream",
     "text": [
      "Ingrese una cadena hola\n"
     ]
    },
    {
     "name": "stdout",
     "output_type": "stream",
     "text": [
      "a\n",
      "l\n",
      "o\n",
      "h\n"
     ]
    }
   ],
   "source": [
    "cadena=input(\"Ingrese una cadena\") \n",
    "for i in range(len(cadena) - 1, -1, -1):\n",
    "    print(cadena[i])\n"
   ]
  },
  {
   "cell_type": "markdown",
   "id": "b85db1a0-0c93-4ade-b84b-fc96d55907e4",
   "metadata": {},
   "source": [
    "Ejercicio 4.5"
   ]
  },
  {
   "cell_type": "code",
   "execution_count": 27,
   "id": "cbf1d32e-52fc-4d31-8565-ac7d26af8208",
   "metadata": {},
   "outputs": [
    {
     "name": "stdout",
     "output_type": "stream",
     "text": [
      "1\n",
      "2\n",
      "Fizz\n",
      "4\n",
      "Buzz\n",
      "Fizz\n",
      "7\n",
      "8\n",
      "Fizz\n",
      "Buzz\n",
      "11\n",
      "Fizz\n",
      "13\n",
      "14\n",
      "FizzBuzz\n",
      "16\n",
      "17\n",
      "Fizz\n",
      "19\n",
      "Buzz\n",
      "Fizz\n",
      "22\n",
      "23\n",
      "Fizz\n",
      "Buzz\n",
      "26\n",
      "Fizz\n",
      "28\n",
      "29\n",
      "FizzBuzz\n",
      "31\n",
      "32\n",
      "Fizz\n",
      "34\n",
      "Buzz\n",
      "Fizz\n",
      "37\n",
      "38\n",
      "Fizz\n",
      "Buzz\n",
      "41\n",
      "Fizz\n",
      "43\n",
      "44\n",
      "FizzBuzz\n",
      "46\n",
      "47\n",
      "Fizz\n",
      "49\n",
      "Buzz\n"
     ]
    }
   ],
   "source": [
    "for number in range(1, 51):\n",
    "    if number % 3 == 0 and number % 5 == 0:\n",
    "        print(\"FizzBuzz\")\n",
    "    elif number % 3 == 0:\n",
    "        print(\"Fizz\")\n",
    "    elif number % 5 == 0:\n",
    "        print(\"Buzz\")\n",
    "    else:\n",
    "        print(number)"
   ]
  },
  {
   "cell_type": "code",
   "execution_count": null,
   "id": "7be400df-f774-414c-9053-bf4045c43498",
   "metadata": {},
   "outputs": [],
   "source": []
  }
 ],
 "metadata": {
  "kernelspec": {
   "display_name": "Python [conda env:Pythonsoftserve]",
   "language": "python",
   "name": "conda-env-Pythonsoftserve-py"
  },
  "language_info": {
   "codemirror_mode": {
    "name": "ipython",
    "version": 3
   },
   "file_extension": ".py",
   "mimetype": "text/x-python",
   "name": "python",
   "nbconvert_exporter": "python",
   "pygments_lexer": "ipython3",
   "version": "3.12.8"
  }
 },
 "nbformat": 4,
 "nbformat_minor": 5
}
