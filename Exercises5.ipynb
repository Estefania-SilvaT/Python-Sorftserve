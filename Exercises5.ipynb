{
 "cells": [
  {
   "cell_type": "markdown",
   "id": "2659e5e7-e834-4d09-b098-6b4c6d99b070",
   "metadata": {},
   "source": [
    "Ejercicio 5.1 \n",
    "Write a program that:\n",
    "Prompts the user to enter a series of numbers separated by spaces.\n",
    "Converts the input into a list of integers.\n",
    "Displays the list, its length, and the largest and smallest numbers in the list."
   ]
  },
  {
   "cell_type": "code",
   "execution_count": 9,
   "id": "a4a89194-f2d0-46d0-93de-1aeae553143f",
   "metadata": {},
   "outputs": [
    {
     "name": "stdin",
     "output_type": "stream",
     "text": [
      "Ingrese los números que quiera separados por espacio 0 1 2 3 4\n"
     ]
    },
    {
     "name": "stdout",
     "output_type": "stream",
     "text": [
      "[0, 1, 2, 3, 4]\n",
      "5\n",
      "0\n",
      "4\n"
     ]
    }
   ],
   "source": [
    "num= input(\"Ingrese los números que quiera separados por espacio\")\n",
    "list_num= num.split()\n",
    "lista_numeros_int= [int(i) for i in list_num]\n",
    "\n",
    "print(lista_numeros_int)\n",
    "print(len(lista_numeros_int))\n",
    "print(min(lista_numeros_int))\n",
    "print(max(lista_numeros_int))"
   ]
  },
  {
   "cell_type": "markdown",
   "id": "61fe95ee-f157-4010-9739-3986513b68af",
   "metadata": {},
   "source": [
    "Exercise 5.2\n",
    "Write a program that:\n",
    "Creates a tuple with five elements (hardcoded).\n",
    "Unpacks the tuple into separate variables and displays each variable."
   ]
  },
  {
   "cell_type": "code",
   "execution_count": 11,
   "id": "9f532919-463b-45c1-825a-f2c84c2d0f56",
   "metadata": {},
   "outputs": [
    {
     "name": "stdout",
     "output_type": "stream",
     "text": [
      "hola\n",
      "1\n",
      "5.2\n",
      "True\n",
      "[4, 5, 6]\n"
     ]
    }
   ],
   "source": [
    "tupla=('hola', 1, 5.2, True, [4,5,6])\n",
    "a, b,c,d,e= tupla\n",
    "\n",
    "print(a)\n",
    "print(b)\n",
    "print(c)\n",
    "print(d)\n",
    "print(e)"
   ]
  },
  {
   "cell_type": "markdown",
   "id": "2676ddc7-dfbd-461a-8fa6-c0b3035bd081",
   "metadata": {},
   "source": [
    "Exercise 5.3\n",
    "Write a program that:\n",
    "Asks the user to input two sets of numbers separated by commas.\n",
    "Converts the inputs into sets and performs the following operations:\n",
    "Union\n",
    "Intersection\n",
    "Difference (first set minus the second)"
   ]
  },
  {
   "cell_type": "code",
   "execution_count": 29,
   "id": "432b432d-e7a6-4829-9878-323d64923fba",
   "metadata": {
    "collapsed": true,
    "jupyter": {
     "outputs_hidden": true
    }
   },
   "outputs": [
    {
     "name": "stdin",
     "output_type": "stream",
     "text": [
      "Ingrese un conjunto de numeros separados por coma 1,2,3\n",
      "Ingrese otro conjunto de numeros separados por coma 4,5,6\n"
     ]
    },
    {
     "ename": "TypeError",
     "evalue": "unhashable type: 'set'",
     "output_type": "error",
     "traceback": [
      "\u001b[1;31m---------------------------------------------------------------------------\u001b[0m",
      "\u001b[1;31mTypeError\u001b[0m                                 Traceback (most recent call last)",
      "Cell \u001b[1;32mIn[29], line 4\u001b[0m\n\u001b[0;32m      2\u001b[0m b\u001b[38;5;241m=\u001b[39m \u001b[38;5;28minput\u001b[39m(\u001b[38;5;124m'\u001b[39m\u001b[38;5;124mIngrese otro conjunto de numeros separados por coma\u001b[39m\u001b[38;5;124m'\u001b[39m)\n\u001b[0;32m      3\u001b[0m set_a\u001b[38;5;241m=\u001b[39m [{x\u001b[38;5;241m.\u001b[39mstrip() \u001b[38;5;28;01mfor\u001b[39;00m x \u001b[38;5;129;01min\u001b[39;00m a\u001b[38;5;241m.\u001b[39msplit(\u001b[38;5;124m\"\u001b[39m\u001b[38;5;124m,\u001b[39m\u001b[38;5;124m\"\u001b[39m)}] \n\u001b[1;32m----> 4\u001b[0m seta\u001b[38;5;241m=\u001b[39m\u001b[38;5;28mset\u001b[39m((set_a))\n\u001b[0;32m      5\u001b[0m set_b\u001b[38;5;241m=\u001b[39m [{x\u001b[38;5;241m.\u001b[39mstrip() \u001b[38;5;28;01mfor\u001b[39;00m x \u001b[38;5;129;01min\u001b[39;00m b\u001b[38;5;241m.\u001b[39msplit(\u001b[38;5;124m\"\u001b[39m\u001b[38;5;124m,\u001b[39m\u001b[38;5;124m\"\u001b[39m)}] \n\u001b[0;32m      6\u001b[0m setb\u001b[38;5;241m=\u001b[39m\u001b[38;5;28mset\u001b[39m((set_b))\n",
      "\u001b[1;31mTypeError\u001b[0m: unhashable type: 'set'"
     ]
    }
   ],
   "source": [
    "a= input('Ingrese un conjunto de numeros separados por coma')\n",
    "b= input('Ingrese otro conjunto de numeros separados por coma')\n",
    "set_a= [{x.strip() for x in a.split(\",\")}] \n",
    "seta=set((set_a))\n",
    "set_b= [{x.strip() for x in b.split(\",\")}] \n",
    "setb=set((set_b))\n",
    "\n",
    "seta.union(setb) \n",
    "seta.intersection(setb)\n",
    "seta.difference(setb)\n",
    "\n",
    "\n",
    "\n"
   ]
  },
  {
   "cell_type": "markdown",
   "id": "cb05ebe0-cb73-4f73-bc22-63903710052d",
   "metadata": {},
   "source": [
    "Ejercicio 5.4\n",
    "Write a program that:\n",
    "Prompts the user to input a series of key-value pairs in the format key:value separated by commas.\n",
    "Converts the input into a dictionary and displays it."
   ]
  },
  {
   "cell_type": "code",
   "execution_count": 31,
   "id": "8eba3dd9-3a06-4e06-be48-415465051f4f",
   "metadata": {},
   "outputs": [
    {
     "name": "stdin",
     "output_type": "stream",
     "text": [
      "Ingrese una clave y un valor separado por dos puntos y cada par separado por coma. Ej: huevo:gallina 1:amarillo, 2:verde\n"
     ]
    },
    {
     "name": "stdout",
     "output_type": "stream",
     "text": [
      "{'1': 'amarillo', ' 2': 'verde'}\n"
     ]
    }
   ],
   "source": [
    "entrada=input(\"Ingrese una clave y un valor separado por dos puntos y cada par separado por coma. Ej: huevo:gallina\")\n",
    "diccionario= dict(i.split(\":\") for i in entrada.split(\",\"))\n",
    "print(diccionario) \n"
   ]
  },
  {
   "cell_type": "markdown",
   "id": "fbfea577-3f89-41a9-812a-9d57253322dc",
   "metadata": {},
   "source": [
    "Ejercicio 5.5 \n",
    "Write a program that:\n",
    "Prompts the user to enter a sentence.\n",
    "Uses a dictionary to count and display the frequency of each word in the sentence.\n"
   ]
  },
  {
   "cell_type": "code",
   "execution_count": 37,
   "id": "33074c34-1229-4f2e-92b4-1aaa1b2a2d78",
   "metadata": {},
   "outputs": [
    {
     "name": "stdin",
     "output_type": "stream",
     "text": [
      "Ingrese una frase hola como esta\n"
     ]
    },
    {
     "name": "stdout",
     "output_type": "stream",
     "text": [
      "Word Frequency Count:\n",
      "hola: 1\n",
      "como: 1\n",
      "esta: 1\n"
     ]
    }
   ],
   "source": [
    "sentence= input(\"Ingrese una frase\")\n",
    "\n",
    "words = sentence.lower().split()\n",
    "word_count = {}\n",
    "\n",
    "for i in words:\n",
    "    word_count[i] = word_count.get(i, 0) + 1\n",
    "\n",
    "# Display the word frequencies\n",
    "print(\"Word Frequency Count:\")\n",
    "for i, count in word_count.items():\n",
    "    print(f\"{i}: {count}\")"
   ]
  },
  {
   "cell_type": "code",
   "execution_count": null,
   "id": "7d50eff2-adb7-4f26-86f3-fbed4eb33d53",
   "metadata": {},
   "outputs": [],
   "source": []
  }
 ],
 "metadata": {
  "kernelspec": {
   "display_name": "Python [conda env:Pythonsoftserve]",
   "language": "python",
   "name": "conda-env-Pythonsoftserve-py"
  },
  "language_info": {
   "codemirror_mode": {
    "name": "ipython",
    "version": 3
   },
   "file_extension": ".py",
   "mimetype": "text/x-python",
   "name": "python",
   "nbconvert_exporter": "python",
   "pygments_lexer": "ipython3",
   "version": "3.12.8"
  }
 },
 "nbformat": 4,
 "nbformat_minor": 5
}
