{
 "cells": [
  {
   "cell_type": "markdown",
   "id": "f385c0d2-7754-4ee2-a811-59e86cb1c021",
   "metadata": {},
   "source": [
    "Ejercicio 6.1 \n",
    "Write a recursive function factorial(n) that:\n",
    "Takes a single parameter n (an integer).\n",
    "Returns the factorial of n."
   ]
  },
  {
   "cell_type": "code",
   "execution_count": 24,
   "id": "964d3b60-e2bd-46e3-8a3e-0b80d27c4b1a",
   "metadata": {},
   "outputs": [
    {
     "name": "stdin",
     "output_type": "stream",
     "text": [
      "Ingrese un número para calcular su factorial 5\n"
     ]
    },
    {
     "data": {
      "text/plain": [
       "120"
      ]
     },
     "execution_count": 24,
     "metadata": {},
     "output_type": "execute_result"
    }
   ],
   "source": [
    "def factorial(n): \n",
    "    if n==0: \n",
    "            return 1\n",
    "    else: \n",
    "            resultado=1\n",
    "            for i in range (1, n+1): \n",
    "                resultado*=i     \n",
    "    return resultado\n",
    "\n",
    "factorial(int(input(\"Ingrese un número para calcular su factorial\")))\n",
    "\n",
    "\n"
   ]
  },
  {
   "cell_type": "markdown",
   "id": "568696ca-253e-4ede-926c-61cf754c4296",
   "metadata": {},
   "source": [
    "Ejercicio 6.2\n",
    "Write a function is_prime(n) that:\n",
    "Takes a single parameter n (an integer).\n",
    "Returns True if the number is prime, otherwise False."
   ]
  },
  {
   "cell_type": "code",
   "execution_count": 28,
   "id": "10ffb51e-34ba-4854-b1b3-271205007ebf",
   "metadata": {},
   "outputs": [
    {
     "name": "stdin",
     "output_type": "stream",
     "text": [
      "Ingrese un número 5\n"
     ]
    },
    {
     "data": {
      "text/plain": [
       "True"
      ]
     },
     "execution_count": 28,
     "metadata": {},
     "output_type": "execute_result"
    }
   ],
   "source": [
    "def is_prime(n): \n",
    "    if n <= 1:\n",
    "        return False  \n",
    "    for i in range(2, n):\n",
    "        if n % i == 0:\n",
    "            return False  \n",
    "    return True  \n",
    "\n",
    "is_prime(int(input(\"Ingrese un número\")))"
   ]
  },
  {
   "cell_type": "markdown",
   "id": "0e8c3249-8557-48d6-b280-46ea7d8ce23f",
   "metadata": {},
   "source": [
    "Ejercicio 6.3\n",
    "Write a function power(base, exponent=2) that:\n",
    "Takes two parameters: base (a number) and exponent (a number, default is 2).\n",
    "Returns the result of raising base to the power of exponent."
   ]
  },
  {
   "cell_type": "code",
   "execution_count": 40,
   "id": "d3d6c2b4-dbb0-4fa2-94d5-5d6dd267739b",
   "metadata": {},
   "outputs": [
    {
     "data": {
      "text/plain": [
       "4"
      ]
     },
     "execution_count": 40,
     "metadata": {},
     "output_type": "execute_result"
    }
   ],
   "source": [
    "def power(base, exponent=2):\n",
    "    return base ** exponent\n",
    "\n",
    "power(2)"
   ]
  },
  {
   "cell_type": "markdown",
   "id": "97ae7d25-9f3b-4b2a-9328-4f7b2b8a4b56",
   "metadata": {},
   "source": [
    "Ejericico 6.4 \n",
    "Write a function find_max(numbers) that:\n",
    "Takes a single parameter numbers (a list of integers or floats).\n",
    "Returns the largest number in the list."
   ]
  },
  {
   "cell_type": "code",
   "execution_count": 42,
   "id": "bf8f9a04-803f-49e4-9cc9-80abf67fdc50",
   "metadata": {},
   "outputs": [
    {
     "data": {
      "text/plain": [
       "78"
      ]
     },
     "execution_count": 42,
     "metadata": {},
     "output_type": "execute_result"
    }
   ],
   "source": [
    "def find_max(numbers): \n",
    "    max_num = numbers[0] \n",
    "    for num in numbers:\n",
    "        if num > max_num:\n",
    "            max_num = num  \n",
    "    return max_num\n",
    "numeros=[5,78,4,3,2]\n",
    "find_max(numeros)"
   ]
  },
  {
   "cell_type": "markdown",
   "id": "1198f4eb-dd26-47d0-b8f3-1bb80f1b1402",
   "metadata": {},
   "source": [
    "Ejercicio 6.5 \n",
    "Write a function fibonacci(n) that:\n",
    "Takes a single parameter n (an integer).\n",
    "Returns a list containing the first n numbers in the Fibonacci sequence."
   ]
  },
  {
   "cell_type": "code",
   "execution_count": 44,
   "id": "d13c7627-22d9-4e93-bf49-6350f51fbfc7",
   "metadata": {},
   "outputs": [
    {
     "data": {
      "text/plain": [
       "[0, 1, 1, 2, 3]"
      ]
     },
     "execution_count": 44,
     "metadata": {},
     "output_type": "execute_result"
    }
   ],
   "source": [
    "def fibonacci(n):\n",
    "  \n",
    "    if n <= 0:\n",
    "        return [] \n",
    "    elif n == 1:\n",
    "        return [0]  # The first Fibonacci number is 0\n",
    "    elif n == 2:\n",
    "        return [0, 1]  # The first two Fibonacci numbers are [0, 1]\n",
    "    \n",
    "    fib_seq = [0, 1]  # Initialize the sequence with the first two numbers\n",
    "    for _ in range(n - 2):\n",
    "        fib_seq.append(fib_seq[-1] + fib_seq[-2])  # Add the next number in the sequence\n",
    "    \n",
    "    return fib_seq\n",
    "\n",
    "fibonacci(5)\n"
   ]
  },
  {
   "cell_type": "code",
   "execution_count": null,
   "id": "223b976e-9137-43b8-bb2e-12feaaada481",
   "metadata": {},
   "outputs": [],
   "source": []
  }
 ],
 "metadata": {
  "kernelspec": {
   "display_name": "Python [conda env:Pythonsoftserve]",
   "language": "python",
   "name": "conda-env-Pythonsoftserve-py"
  },
  "language_info": {
   "codemirror_mode": {
    "name": "ipython",
    "version": 3
   },
   "file_extension": ".py",
   "mimetype": "text/x-python",
   "name": "python",
   "nbconvert_exporter": "python",
   "pygments_lexer": "ipython3",
   "version": "3.12.8"
  }
 },
 "nbformat": 4,
 "nbformat_minor": 5
}
