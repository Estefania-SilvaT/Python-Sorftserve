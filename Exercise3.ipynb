{
 "cells": [
  {
   "cell_type": "markdown",
   "id": "afa2917d-1281-4ca2-a820-5b7b32d95033",
   "metadata": {},
   "source": [
    "Ejercicio 3.1 "
   ]
  },
  {
   "cell_type": "code",
   "execution_count": 4,
   "id": "21e3d425-4f02-4337-8b58-bc9476c40298",
   "metadata": {},
   "outputs": [
    {
     "name": "stdin",
     "output_type": "stream",
     "text": [
      "Ingrese un año 2024\n"
     ]
    },
    {
     "name": "stdout",
     "output_type": "stream",
     "text": [
      "El año 2024 es biciesto\n"
     ]
    }
   ],
   "source": [
    "year= input(\"Ingrese un año\")\n",
    "year=int(year) \n",
    "if (year % 4 ==0 and year%100!=0) or year%400==0:\n",
    "    print(\"El año\", year, \"es biciesto\")\n",
    "else:\n",
    "    print(\"El año\", year, \"no es biciesto\")\n",
    "    "
   ]
  },
  {
   "cell_type": "markdown",
   "id": "1cd9f288-22ed-40c7-921b-e1db8d1d6964",
   "metadata": {},
   "source": [
    "Ejercicio 3.2 "
   ]
  },
  {
   "cell_type": "code",
   "execution_count": 8,
   "id": "49feff9b-a13e-4a33-840e-4909f6ae59ff",
   "metadata": {},
   "outputs": [
    {
     "name": "stdin",
     "output_type": "stream",
     "text": [
      "Ingrese un número 5\n",
      "Ingrese otro número 4\n"
     ]
    },
    {
     "name": "stdout",
     "output_type": "stream",
     "text": [
      "La suma de los dos números es: 9\n",
      "La resta de los dos números es: 1\n",
      "La multiplicación de los dos números es: 20\n",
      "La división de los dos números es: 1.25\n"
     ]
    }
   ],
   "source": [
    "number1=int(input(\"Ingrese un número\"))\n",
    "number2=int(input(\"Ingrese otro número\"))\n",
    "suma= number1+number2\n",
    "resta= number1-number2\n",
    "multi=number1*number2\n",
    "divi=number1/number2\n",
    "\n",
    "print(\"La suma de los dos números es:\", suma)\n",
    "print(\"La resta de los dos números es:\", resta)\n",
    "print(\"La multiplicación de los dos números es:\", multi)   \n",
    "print(\"La división de los dos números es:\", divi)"
   ]
  },
  {
   "cell_type": "markdown",
   "id": "7d5628fd-c973-4cf7-827d-965154dbadcd",
   "metadata": {},
   "source": [
    "Ejercicio 3.3 "
   ]
  },
  {
   "cell_type": "code",
   "execution_count": 14,
   "id": "0d55dc16-4dbd-4fcc-a986-2053a7ddec33",
   "metadata": {},
   "outputs": [
    {
     "name": "stdin",
     "output_type": "stream",
     "text": [
      "Ingrese un número -2\n"
     ]
    },
    {
     "name": "stdout",
     "output_type": "stream",
     "text": [
      "El número ingreso es negativo\n"
     ]
    }
   ],
   "source": [
    "number= int(input(\"Ingrese un número\"))\n",
    "if number <0:\n",
    "    print(\"El número ingreso es negativo\")\n",
    "elif number>0:\n",
    "    print(\"El número ingresado es positivo\")\n",
    "else:\n",
    "    print(\"El número es cero\")\n",
    "    \n",
    "    "
   ]
  },
  {
   "cell_type": "markdown",
   "id": "5af909e0-54ba-422d-a896-aa6e9f2cc0ff",
   "metadata": {},
   "source": [
    "Ejercicio 3.4"
   ]
  },
  {
   "cell_type": "code",
   "execution_count": 20,
   "id": "35aee848-63ba-408b-9bd0-db30fe015ac8",
   "metadata": {},
   "outputs": [
    {
     "name": "stdin",
     "output_type": "stream",
     "text": [
      "Ingrese un número del 1 al 7 8\n"
     ]
    },
    {
     "name": "stdout",
     "output_type": "stream",
     "text": [
      "El número ingresado no es valido\n"
     ]
    }
   ],
   "source": [
    "number= int(input(\"Ingrese un número del 1 al 7\"))\n",
    "match number: \n",
    "    case 1:\n",
    "        print(\"Lunes\")\n",
    "    case 2: \n",
    "        print(\"Martes\")\n",
    "    case 3:\n",
    "        print(\"Miercoles\") \n",
    "    case 4:\n",
    "        print(\"Jueves\")\n",
    "    case 5: \n",
    "        print(\"Viernes\")\n",
    "    case 6:\n",
    "        print(\"Sabado\")\n",
    "    case 7: \n",
    "        print(\"Domingo\")\n",
    "    case _:\n",
    "        print(\"El número ingresado no es valido\") \n",
    "            "
   ]
  },
  {
   "cell_type": "markdown",
   "id": "bc8637a6-3862-4b5a-838b-25b4753503ab",
   "metadata": {},
   "source": [
    "Ejercicio 3.5 "
   ]
  },
  {
   "cell_type": "code",
   "execution_count": 36,
   "id": "f43dc791-11d8-46a4-8bc2-a5708c40e95c",
   "metadata": {},
   "outputs": [
    {
     "name": "stdin",
     "output_type": "stream",
     "text": [
      "Ingrese un caracter 1\n"
     ]
    },
    {
     "ename": "TypeError",
     "evalue": "'str' object cannot be interpreted as an integer",
     "output_type": "error",
     "traceback": [
      "\u001b[1;31m---------------------------------------------------------------------------\u001b[0m",
      "\u001b[1;31mTypeError\u001b[0m                                 Traceback (most recent call last)",
      "Cell \u001b[1;32mIn[36], line 1\u001b[0m\n\u001b[1;32m----> 1\u001b[0m caracter\u001b[38;5;241m=\u001b[39m \u001b[38;5;28mchr\u001b[39m(\u001b[38;5;28minput\u001b[39m(\u001b[38;5;124m\"\u001b[39m\u001b[38;5;124mIngrese un caracter\u001b[39m\u001b[38;5;124m\"\u001b[39m))\n\u001b[0;32m      2\u001b[0m \u001b[38;5;28;01mif\u001b[39;00m \u001b[38;5;124m'\u001b[39m\u001b[38;5;124ma\u001b[39m\u001b[38;5;124m'\u001b[39m \u001b[38;5;241m<\u001b[39m\u001b[38;5;241m=\u001b[39m caracter \u001b[38;5;241m<\u001b[39m\u001b[38;5;241m=\u001b[39m \u001b[38;5;124m'\u001b[39m\u001b[38;5;124mz\u001b[39m\u001b[38;5;124m'\u001b[39m \u001b[38;5;129;01mor\u001b[39;00m \u001b[38;5;124m'\u001b[39m\u001b[38;5;124mA\u001b[39m\u001b[38;5;124m'\u001b[39m \u001b[38;5;241m<\u001b[39m\u001b[38;5;241m=\u001b[39m caracter \u001b[38;5;241m<\u001b[39m\u001b[38;5;241m=\u001b[39m \u001b[38;5;124m'\u001b[39m\u001b[38;5;124mZ\u001b[39m\u001b[38;5;124m'\u001b[39m:\n\u001b[0;32m      3\u001b[0m         \u001b[38;5;28;01mif\u001b[39;00m caracter\u001b[38;5;241m.\u001b[39mlower() \u001b[38;5;129;01min\u001b[39;00m \u001b[38;5;124m'\u001b[39m\u001b[38;5;124maeiou\u001b[39m\u001b[38;5;124m'\u001b[39m:\n",
      "\u001b[1;31mTypeError\u001b[0m: 'str' object cannot be interpreted as an integer"
     ]
    }
   ],
   "source": [
    "caracter= chr(input(\"Ingrese un caracter\"))\n",
    "if 'a' <= caracter <= 'z' or 'A' <= caracter <= 'Z':\n",
    "        if caracter.lower() in 'aeiou':\n",
    "            return \"vowel\"\n",
    "        else:\n",
    "            return \"consonant\"\n",
    "elif '0' <= caracter <= '9':\n",
    "        return \"digit\"\n",
    "else:\n",
    "        return \"special character\""
   ]
  },
  {
   "cell_type": "code",
   "execution_count": null,
   "id": "54c8e1ef-0a76-4531-b92e-6e625f552b08",
   "metadata": {},
   "outputs": [],
   "source": []
  }
 ],
 "metadata": {
  "kernelspec": {
   "display_name": "Python [conda env:Pythonsoftserve]",
   "language": "python",
   "name": "conda-env-Pythonsoftserve-py"
  },
  "language_info": {
   "codemirror_mode": {
    "name": "ipython",
    "version": 3
   },
   "file_extension": ".py",
   "mimetype": "text/x-python",
   "name": "python",
   "nbconvert_exporter": "python",
   "pygments_lexer": "ipython3",
   "version": "3.12.8"
  }
 },
 "nbformat": 4,
 "nbformat_minor": 5
}
