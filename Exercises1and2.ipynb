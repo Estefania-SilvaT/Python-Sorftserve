{
 "cells": [
  {
   "cell_type": "markdown",
   "id": "8902181d-9af0-4c14-991a-f32f341be073",
   "metadata": {},
   "source": [
    "Ejercicio 1.1 "
   ]
  },
  {
   "cell_type": "code",
   "execution_count": 14,
   "id": "3147d1fd-cfda-4ec2-b6e8-bb812525812c",
   "metadata": {},
   "outputs": [
    {
     "name": "stdin",
     "output_type": "stream",
     "text": [
      "Cual es tu edad? 15\n"
     ]
    },
    {
     "name": "stdout",
     "output_type": "stream",
     "text": [
      "Tu edad en 10 años será: 25\n"
     ]
    }
   ],
   "source": [
    "age= input(\"Cual es tu edad?\")\n",
    "age= int(age)\n",
    "new_age= age+10 \n",
    "print(\"Tu edad en 10 años será:\" , new_age)"
   ]
  },
  {
   "cell_type": "markdown",
   "id": "12bc5088-0923-462f-8b39-1182fa88c31b",
   "metadata": {},
   "source": [
    "Ejercicio 1.2 "
   ]
  },
  {
   "cell_type": "code",
   "execution_count": 16,
   "id": "ecba385a-3ffd-4171-8773-d2452f380487",
   "metadata": {},
   "outputs": [
    {
     "name": "stdin",
     "output_type": "stream",
     "text": [
      "What is your favorite color? Blue\n",
      "Whats is your favorite hobby? Swim\n",
      "Whats is your favorite food? Burguer\n"
     ]
    },
    {
     "name": "stdout",
     "output_type": "stream",
     "text": [
      "Your favorite color is:, Blue\n",
      "Your favorite hobby is:, Swim\n",
      "Your favorite food is:, Burguer\n"
     ]
    }
   ],
   "source": [
    "color= input(\"What is your favorite color?\") \n",
    "hobbie= input(\"Whats is your favorite hobby?\")\n",
    "food= input(\"Whats is your favorite food?\") \n",
    "print( \"Your favorite color is:\", color) \n",
    "print( \"Your favorite hobby is:\", hobbie) \n",
    "print( \"Your favorite food is:\", food) \n",
    "\n"
   ]
  },
  {
   "cell_type": "markdown",
   "id": "551ce92b-73ad-4a2d-a301-84185c441a24",
   "metadata": {},
   "source": [
    "Ejercicio 1.3"
   ]
  },
  {
   "cell_type": "code",
   "execution_count": 26,
   "id": "4f49a56b-06b7-441c-819c-752165a0f813",
   "metadata": {},
   "outputs": [
    {
     "name": "stdin",
     "output_type": "stream",
     "text": [
      "Ingrese una temperatura en grados celsius 25\n"
     ]
    },
    {
     "name": "stdout",
     "output_type": "stream",
     "text": [
      "La temperatura indicado equivale a:  77.0 grados Farenheit\n"
     ]
    }
   ],
   "source": [
    "temperatura= input(\"Ingrese una temperatura en grados celsius\")\n",
    "temperatura=int(temperatura)\n",
    "\n",
    "farenheit= (temperatura*9/5)+32\n",
    "print(\"La temperatura indicado equivale a: \", farenheit,\"grados Farenheit\")\n",
    "\n"
   ]
  },
  {
   "cell_type": "markdown",
   "id": "86e9207e-31f1-4c2a-a6e1-9f7eb524ddbf",
   "metadata": {},
   "source": [
    "Ejercicio 1.4"
   ]
  },
  {
   "cell_type": "code",
   "execution_count": 8,
   "id": "b4c26cc6-029a-4f0c-9170-26ae8c1058ef",
   "metadata": {},
   "outputs": [
    {
     "name": "stdin",
     "output_type": "stream",
     "text": [
      "Ingrese un número entre 1 y 10 8\n"
     ]
    },
    {
     "name": "stdout",
     "output_type": "stream",
     "text": [
      "Numero incorrecto\n"
     ]
    }
   ],
   "source": [
    "number= input(\"Ingrese un número entre 1 y 10\") \n",
    "number=int(number) \n",
    "\n",
    "if number ==7: \n",
    "    print(\"Felicitaciones, adivino el número\")\n",
    "else:\n",
    "    print(\"Numero incorrecto\")\n"
   ]
  },
  {
   "cell_type": "markdown",
   "id": "44509aab-2cdb-4cb7-ab8e-b34f4ccc914c",
   "metadata": {},
   "source": [
    "Ejercicio 1.5"
   ]
  },
  {
   "cell_type": "code",
   "execution_count": 10,
   "id": "39b0407b-f506-48e5-9694-16c8dab62886",
   "metadata": {},
   "outputs": [
    {
     "name": "stdin",
     "output_type": "stream",
     "text": [
      "Ingrese un numero 5\n",
      "Ingrese una letra l\n"
     ]
    },
    {
     "name": "stdout",
     "output_type": "stream",
     "text": [
      "lllll\n"
     ]
    }
   ],
   "source": [
    "number=input(\"Ingrese un numero\")\n",
    "number=int(number) \n",
    "word= input(\"Ingrese una letra\") \n",
    "print(word*number)"
   ]
  },
  {
   "cell_type": "markdown",
   "id": "861c0e60-4ad5-4aec-b5bd-e64f9ffd35c4",
   "metadata": {},
   "source": [
    "Ejercicio 2.1"
   ]
  },
  {
   "cell_type": "code",
   "execution_count": 12,
   "id": "92a8041f-6368-4344-971d-a8dd23ee57a9",
   "metadata": {},
   "outputs": [
    {
     "name": "stdin",
     "output_type": "stream",
     "text": [
      "Ingrese una oración hola mundo\n"
     ]
    },
    {
     "name": "stdout",
     "output_type": "stream",
     "text": [
      "HOLA MUNDO hola mundo Hola Mundo\n"
     ]
    }
   ],
   "source": [
    "sentence= input(\"Ingrese una oración\")\n",
    "mayus=sentence.upper()\n",
    "minus=sentence.lower()\n",
    "inicio=sentence.title()\n",
    "print(mayus,minus, inicio)\n"
   ]
  },
  {
   "cell_type": "markdown",
   "id": "2ca0b2d5-7d7b-4a12-8d45-a856d41a4371",
   "metadata": {},
   "source": [
    "Ejercicio 2.2"
   ]
  },
  {
   "cell_type": "code",
   "execution_count": 16,
   "id": "2334a3a2-f9fc-40ad-add8-392d46567364",
   "metadata": {},
   "outputs": [
    {
     "name": "stdin",
     "output_type": "stream",
     "text": [
      "Ingrese True or False True\n",
      "Ingrese True of False False\n"
     ]
    },
    {
     "name": "stdout",
     "output_type": "stream",
     "text": [
      "False True\n"
     ]
    }
   ],
   "source": [
    "bool1=input(\"Ingrese True or False\") \n",
    "bool2=input(\"Ingrese True of False\") \n",
    "\n",
    "test1= bool1 and bool2\n",
    "test2= bool1 or bool2\n",
    "\n",
    "print(test1, test2)\n"
   ]
  },
  {
   "cell_type": "code",
   "execution_count": null,
   "id": "7a480f1f-f71e-4559-92a5-a2d22a455103",
   "metadata": {},
   "outputs": [],
   "source": []
  }
 ],
 "metadata": {
  "kernelspec": {
   "display_name": "Python [conda env:Pythonsoftserve]",
   "language": "python",
   "name": "conda-env-Pythonsoftserve-py"
  },
  "language_info": {
   "codemirror_mode": {
    "name": "ipython",
    "version": 3
   },
   "file_extension": ".py",
   "mimetype": "text/x-python",
   "name": "python",
   "nbconvert_exporter": "python",
   "pygments_lexer": "ipython3",
   "version": "3.12.8"
  }
 },
 "nbformat": 4,
 "nbformat_minor": 5
}
